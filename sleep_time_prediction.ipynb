{
 "cells": [
  {
   "cell_type": "code",
   "execution_count": 1,
   "id": "4be24f6c-3522-42de-b8a3-36af20af3d35",
   "metadata": {},
   "outputs": [],
   "source": [
    "import numpy as np\n",
    "import pandas as pd\n",
    "import matplotlib.pyplot as plt"
   ]
  },
  {
   "cell_type": "code",
   "execution_count": 3,
   "id": "3316e386-9dda-4468-a07c-cca9eaf575b3",
   "metadata": {},
   "outputs": [],
   "source": [
    "df = pd.read_csv('sleeptime_prediction_dataset.csv')"
   ]
  },
  {
   "cell_type": "code",
   "execution_count": 27,
   "id": "96023336-8ed9-47eb-b273-7f57e5dd2a1c",
   "metadata": {},
   "outputs": [
    {
     "name": "stdout",
     "output_type": "stream",
     "text": [
      "   WorkoutTime  ReadingTime  PhoneTime  WorkHours  CaffeineIntake  \\\n",
      "0         1.12         0.52       3.29       7.89          216.08   \n",
      "1         2.85         0.49       4.22       5.03          206.18   \n",
      "2         2.20         1.81       4.04       9.23           28.73   \n",
      "3         1.80         0.50       1.62       7.68          276.77   \n",
      "4         0.47         0.54       1.60       4.94          170.54   \n",
      "\n",
      "   RelaxationTime  SleepTime  \n",
      "0            0.75       3.45  \n",
      "1            0.67       4.88  \n",
      "2            0.35       3.61  \n",
      "3            1.21       4.94  \n",
      "4            0.95       5.50  \n",
      "(2000, 7)\n"
     ]
    }
   ],
   "source": [
    "print(df.head())\n",
    "print(df.shape)"
   ]
  },
  {
   "cell_type": "code",
   "execution_count": 41,
   "id": "999ba939-dd3d-4e06-895e-f4284ae8e84d",
   "metadata": {},
   "outputs": [
    {
     "name": "stdout",
     "output_type": "stream",
     "text": [
      "1.4959149999999999\n",
      "1.52\n"
     ]
    }
   ],
   "source": [
    "#Find mean and median for the WorkoutTime column\n",
    "workout_mean = np.mean(df['WorkoutTime'])\n",
    "workout_median = np.median(df['WorkoutTime'])\n",
    "print(workout_mean)\n",
    "print(workout_median)\n",
    "\n",
    "#observation: other columns except SleepTime generate very close mean and median"
   ]
  },
  {
   "cell_type": "code",
   "execution_count": 25,
   "id": "debdbe17-af77-41d0-ae66-77282bb1893a",
   "metadata": {},
   "outputs": [
    {
     "name": "stdout",
     "output_type": "stream",
     "text": [
      "4.884375\n",
      "4.6\n"
     ]
    }
   ],
   "source": [
    "#Find mean and median for the SleepTime column\n",
    "print(np.mean(df['SleepTime']))\n",
    "print(np.median(df['SleepTime']))"
   ]
  },
  {
   "cell_type": "code",
   "execution_count": 29,
   "id": "2b601c8b-7de8-4ca3-8e95-d1ca18cc718f",
   "metadata": {},
   "outputs": [
    {
     "data": {
      "image/png": "[encoded data removed]",
      "text/plain": [
       "<Figure size 640x480 with 1 Axes>"
      ]
     },
     "metadata": {},
     "output_type": "display_data"
    }
   ],
   "source": [
    "#Visualizing the sleepTime data\n",
    "plt.hist(df['SleepTime'], bins=10)\n",
    "plt.show()"
   ]
  },
  {
   "cell_type": "code",
   "execution_count": 35,
   "id": "f1eefd2a-0196-4d68-8267-12b049200d6d",
   "metadata": {},
   "outputs": [
    {
     "name": "stdout",
     "output_type": "stream",
     "text": [
      "1.395\n",
      "7.914999999999999\n"
     ]
    }
   ],
   "source": [
    "q1 = df['SleepTime'].quantile(0.25) #calculating the 25th percentile\n",
    "q3 = df['SleepTime'].quantile(0.75) #calculating the 75th percentile\n",
    "iqr = q3-q1 #interquartile range\n",
    "\n",
    "lower = q1 - 1.5*iqr #lower range\n",
    "upper = q3 + 1.5*iqr #upper range\n",
    "\n",
    "print(lower)\n",
    "print(upper)"
   ]
  },
  {
   "cell_type": "code",
   "execution_count": 43,
   "id": "47f008d3-c0b3-4ad8-8a43-c43f783392f5",
   "metadata": {},
   "outputs": [
    {
     "name": "stdout",
     "output_type": "stream",
     "text": [
      "      WorkoutTime  ReadingTime  PhoneTime  WorkHours  CaffeineIntake  \\\n",
      "10           0.06         0.07       1.14       8.82          251.82   \n",
      "35           2.43         0.70       4.95       5.41           29.69   \n",
      "159          2.18         1.50       3.26       9.02          234.99   \n",
      "187          1.67         1.53       3.31       5.78          280.84   \n",
      "212          1.96         0.04       3.18       6.41            4.75   \n",
      "...           ...          ...        ...        ...             ...   \n",
      "1877         1.53         1.76       3.68       6.32          111.67   \n",
      "1891         1.20         1.06       3.34       7.02           25.28   \n",
      "1901         0.02         0.76       3.17       5.33          111.90   \n",
      "1941         1.00         1.80       1.94       7.85           16.17   \n",
      "1989         2.19         1.74       4.29       9.03          244.75   \n",
      "\n",
      "      RelaxationTime  SleepTime  \n",
      "10              1.77      15.94  \n",
      "35              0.69       8.71  \n",
      "159             1.67      17.77  \n",
      "187             1.75       0.74  \n",
      "212             0.24      17.87  \n",
      "...              ...        ...  \n",
      "1877            0.85       0.16  \n",
      "1891            0.11      12.98  \n",
      "1901            1.95      17.30  \n",
      "1941            0.26      10.41  \n",
      "1989            1.89       8.41  \n",
      "\n",
      "[64 rows x 7 columns]\n"
     ]
    }
   ],
   "source": [
    "#filtering the outliers\n",
    "outliers = df[np.logical_or(df['SleepTime'] < lower, df['SleepTime'] > upper)]\n",
    "print(outliers)"
   ]
  }
 ],
 "metadata": {
  "kernelspec": {
   "display_name": "Python [conda env:base] *",
   "language": "python",
   "name": "conda-base-py"
  },
  "language_info": {
   "codemirror_mode": {
    "name": "ipython",
    "version": 3
   },
   "file_extension": ".py",
   "mimetype": "text/x-python",
   "name": "python",
   "nbconvert_exporter": "python",
   "pygments_lexer": "ipython3",
   "version": "3.12.7"
  }
 },
 "nbformat": 4,
 "nbformat_minor": 5
}
